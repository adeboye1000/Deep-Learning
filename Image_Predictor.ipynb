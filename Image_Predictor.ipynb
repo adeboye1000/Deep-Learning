{
 "cells": [
  {
   "cell_type": "markdown",
   "metadata": {},
   "source": [
    "# Import the Relevant Library"
   ]
  },
  {
   "cell_type": "code",
   "execution_count": 1,
   "metadata": {},
   "outputs": [],
   "source": [
    "import pyttsx3 \n",
    "  \n",
    "# initialisation \n",
    "engine = pyttsx3.init() \n",
    "  \n",
    "# testing \n",
    "engine.say(\"this is an image detector\") \n",
    "engine.say(\"enter your preferred language\") \n",
    "engine.say(\"enter de for German and press enter on your keyboard\")\n",
    "engine.say(\"enter fr for French and press enter on your keyboard\")\n",
    "engine.say(\"enter en for English and press enter on your keyboard\")\n",
    "\n",
    "engine.runAndWait() "
   ]
  },
  {
   "cell_type": "markdown",
   "metadata": {},
   "source": [
    "# Enter your preferred language"
   ]
  },
  {
   "cell_type": "code",
   "execution_count": 2,
   "metadata": {},
   "outputs": [
    {
     "name": "stdout",
     "output_type": "stream",
     "text": [
      "Enter the preferred language here: de\n"
     ]
    }
   ],
   "source": [
    "Language = input('Enter the preferred language here: ')\n"
   ]
  },
  {
   "cell_type": "markdown",
   "metadata": {},
   "source": [
    "# Enter the image to predict"
   ]
  },
  {
   "cell_type": "code",
   "execution_count": 3,
   "metadata": {},
   "outputs": [
    {
     "name": "stdout",
     "output_type": "stream",
     "text": [
      "Enter the image here: image01.jpg\n"
     ]
    }
   ],
   "source": [
    "Image = input('Enter the image here: ')"
   ]
  },
  {
   "cell_type": "markdown",
   "metadata": {},
   "source": [
    "# Import the Relevant Libraries"
   ]
  },
  {
   "cell_type": "code",
   "execution_count": 4,
   "metadata": {},
   "outputs": [],
   "source": [
    "import numpy as np\n",
    "import pandas as pd\n",
    "import tensorflow as tf\n",
    "from tensorflow import keras\n",
    "from tensorflow.keras.layers import Dense, Activation\n",
    "from tensorflow.keras.optimizers import Adam\n",
    "from tensorflow.keras.metrics import categorical_crossentropy\n",
    "from tensorflow.keras.preprocessing.image import ImageDataGenerator\n",
    "from tensorflow.keras.preprocessing import image\n",
    "from tensorflow.keras.models import Model\n",
    "from tensorflow.keras.applications import imagenet_utils\n",
    "from keras.preprocessing.image import load_img\n",
    "from keras.applications.resnet import preprocess_input, decode_predictions\n",
    "from sklearn.metrics import confusion_matrix\n",
    "import itertools\n",
    "import os\n",
    "import shutil\n",
    "import random\n",
    "import matplotlib.pyplot as plt\n",
    "%matplotlib inline\n"
   ]
  },
  {
   "cell_type": "markdown",
   "metadata": {},
   "source": [
    "# Load the Image"
   ]
  },
  {
   "cell_type": "code",
   "execution_count": 5,
   "metadata": {
    "scrolled": true
   },
   "outputs": [],
   "source": [
    "image = load_img(Image, target_size=(224, 224))\n"
   ]
  },
  {
   "cell_type": "markdown",
   "metadata": {},
   "source": [
    "# Convert the Image to an array"
   ]
  },
  {
   "cell_type": "code",
   "execution_count": 6,
   "metadata": {},
   "outputs": [],
   "source": [
    "image = np.array(image)"
   ]
  },
  {
   "cell_type": "markdown",
   "metadata": {},
   "source": [
    "# Expand the Image"
   ]
  },
  {
   "cell_type": "code",
   "execution_count": 7,
   "metadata": {},
   "outputs": [],
   "source": [
    "image = img_array_expanded_dims = np.expand_dims(image, axis=0)"
   ]
  },
  {
   "cell_type": "markdown",
   "metadata": {},
   "source": [
    "# Create a list for the Image"
   ]
  },
  {
   "cell_type": "code",
   "execution_count": 8,
   "metadata": {},
   "outputs": [],
   "source": [
    "IMAGE_LIST = [image]"
   ]
  },
  {
   "cell_type": "markdown",
   "metadata": {},
   "source": [
    "# Model"
   ]
  },
  {
   "cell_type": "code",
   "execution_count": 9,
   "metadata": {},
   "outputs": [],
   "source": [
    "model = tf.keras.applications.ResNet152()"
   ]
  },
  {
   "cell_type": "markdown",
   "metadata": {},
   "source": [
    "# Predictions"
   ]
  },
  {
   "cell_type": "code",
   "execution_count": 10,
   "metadata": {},
   "outputs": [
    {
     "name": "stdout",
     "output_type": "stream",
     "text": [
      "[[('n01496331', 'electric_ray', 0.46289876)]]\n",
      "Prediction: electric_ray\n",
      "CURRENT_LIST: ['electric_ray']\n"
     ]
    }
   ],
   "source": [
    "PREDICTION_LIST = []\n",
    "\n",
    "for image in IMAGE_LIST:\n",
    "    image = preprocess_input(image)\n",
    "    predict_image = model.predict(image)\n",
    "    decode_image = decode_predictions(predict_image, top = 2)\n",
    "    decode_image\n",
    "    A = decode_image[0][0][2] \n",
    "    B = decode_image[0][1][2]\n",
    "    if A-B > 0.04:\n",
    "            decode_image = decode_predictions(predict_image, top = 1)\n",
    "            print(decode_image)\n",
    "            print('Prediction:', decode_image[0][0][1])\n",
    "            PREDICTION_LIST.append(decode_image[0][0][1])\n",
    "            print('CURRENT_LIST:', PREDICTION_LIST)\n",
    "            \n",
    "            \n",
    "    \n",
    "    \n",
    "    else:\n",
    "            decode_image = decode_predictions(predict_image, top = 2)\n",
    "            print(decode_image)\n",
    "            print('Prediction:', decode_image[0][0][1])\n",
    "            PREDICTION_LIST.append(decode_image[0][0][1])\n",
    "            print('CURRENT_LIST:', PREDICTION_LIST)"
   ]
  },
  {
   "cell_type": "code",
   "execution_count": 11,
   "metadata": {},
   "outputs": [
    {
     "data": {
      "text/plain": [
       "['electric_ray']"
      ]
     },
     "execution_count": 11,
     "metadata": {},
     "output_type": "execute_result"
    }
   ],
   "source": [
    "PREDICTION_LIST"
   ]
  },
  {
   "cell_type": "code",
   "execution_count": 12,
   "metadata": {},
   "outputs": [
    {
     "data": {
      "text/plain": [
       "'electric_ray'"
      ]
     },
     "execution_count": 12,
     "metadata": {},
     "output_type": "execute_result"
    }
   ],
   "source": [
    "Predictions = pd.DataFrame(columns = ['Predictions'], data = PREDICTION_LIST, )\n",
    "Predictions\n",
    "PREDICTION_LIST[0]"
   ]
  },
  {
   "cell_type": "markdown",
   "metadata": {},
   "source": [
    "# Get the Result in the chosen language"
   ]
  },
  {
   "cell_type": "code",
   "execution_count": 13,
   "metadata": {},
   "outputs": [
    {
     "name": "stdout",
     "output_type": "stream",
     "text": [
      "electric_ray \n"
     ]
    }
   ],
   "source": [
    "from google_trans_new import google_translator\n",
    "translator = google_translator()  \n",
    "translate_text = translator.translate(PREDICTION_LIST[0],lang_src='en', lang_tgt= Language)  \n",
    "print(translate_text)\n",
    "\n"
   ]
  }
 ],
 "metadata": {
  "kernelspec": {
   "display_name": "Python [conda env:py3-TF2.0]",
   "language": "python",
   "name": "conda-env-py3-TF2.0-py"
  },
  "language_info": {
   "codemirror_mode": {
    "name": "ipython",
    "version": 3
   },
   "file_extension": ".py",
   "mimetype": "text/x-python",
   "name": "python",
   "nbconvert_exporter": "python",
   "pygments_lexer": "ipython3",
   "version": "3.8.5"
  }
 },
 "nbformat": 4,
 "nbformat_minor": 4
}
